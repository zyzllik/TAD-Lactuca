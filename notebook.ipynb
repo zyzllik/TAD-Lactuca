{
 "cells": [
  {
   "cell_type": "code",
   "execution_count": 1,
   "metadata": {},
   "outputs": [],
   "source": [
    "import itertools"
   ]
  },
  {
   "cell_type": "code",
   "execution_count": 2,
   "metadata": {},
   "outputs": [],
   "source": [
    "    not_available = ['E017-H3K4me3', 'E017-H3K4me2', 'E017-CTCF', 'E017-H3K9ac']\n",
    "    exclude_list = [False]\n",
    "    for i in range(1, 5):\n",
    "        exclude_list += [j for j in itertools.combinations(not_available, i)]"
   ]
  },
  {
   "cell_type": "code",
   "execution_count": 13,
   "metadata": {},
   "outputs": [
    {
     "data": {
      "text/plain": [
       "[False,\n",
       " ('E017-H3K4me3',),\n",
       " ('E017-H3K4me2',),\n",
       " ('E017-CTCF',),\n",
       " ('E017-H3K9ac',),\n",
       " ('E017-H3K4me3', 'E017-H3K4me2'),\n",
       " ('E017-H3K4me3', 'E017-CTCF'),\n",
       " ('E017-H3K4me3', 'E017-H3K9ac'),\n",
       " ('E017-H3K4me2', 'E017-CTCF'),\n",
       " ('E017-H3K4me2', 'E017-H3K9ac'),\n",
       " ('E017-CTCF', 'E017-H3K9ac'),\n",
       " ('E017-H3K4me3', 'E017-H3K4me2', 'E017-CTCF'),\n",
       " ('E017-H3K4me3', 'E017-H3K4me2', 'E017-H3K9ac'),\n",
       " ('E017-H3K4me3', 'E017-CTCF', 'E017-H3K9ac'),\n",
       " ('E017-H3K4me2', 'E017-CTCF', 'E017-H3K9ac'),\n",
       " ('E017-H3K4me3', 'E017-H3K4me2', 'E017-CTCF', 'E017-H3K9ac')]"
      ]
     },
     "execution_count": 13,
     "metadata": {},
     "output_type": "execute_result"
    }
   ],
   "source": [
    "exclude_list"
   ]
  },
  {
   "cell_type": "code",
   "execution_count": 11,
   "metadata": {},
   "outputs": [
    {
     "name": "stdout",
     "output_type": "stream",
     "text": [
      "E017-H3K4me3\n",
      "E017-H3K9ac\n"
     ]
    }
   ],
   "source": [
    "if exclude_list[7] is not False:\n",
    "    for excluded_input in exclude_list[7]:\n",
    "        print(excluded_input)\n"
   ]
  }
 ],
 "metadata": {
  "interpreter": {
   "hash": "d57951adefcd851d7eb50f500b2d67ecb0627830ff614be02079a00b40ff17c2"
  },
  "kernelspec": {
   "display_name": "Python 3.9.7 ('.lactuca': venv)",
   "language": "python",
   "name": "python3"
  },
  "language_info": {
   "codemirror_mode": {
    "name": "ipython",
    "version": 3
   },
   "file_extension": ".py",
   "mimetype": "text/x-python",
   "name": "python",
   "nbconvert_exporter": "python",
   "pygments_lexer": "ipython3",
   "version": "3.9.7"
  },
  "orig_nbformat": 4
 },
 "nbformat": 4,
 "nbformat_minor": 2
}
